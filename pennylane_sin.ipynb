{
 "cells": [
  {
   "cell_type": "markdown",
   "source": [
    "# [Pennylane](https://pennylane.ai/)\n",
    "\n",
    "Documentation of the latest stable release is [here](https://docs.pennylane.ai/en/stable/).\n",
    "\n",
    "Different machine learning demos can be found [here](https://pennylane.ai/qml/demos_qml)."
   ],
   "metadata": {
    "collapsed": false
   }
  },
  {
   "cell_type": "markdown",
   "source": [
    "## Example: Finding function describing the data\n",
    "\n",
    "Starting with the necessary imports"
   ],
   "metadata": {
    "collapsed": false
   }
  },
  {
   "cell_type": "code",
   "execution_count": 1,
   "outputs": [],
   "source": [
    "import pennylane as qml\n",
    "from pennylane import numpy as np\n",
    "import matplotlib.pyplot as plt"
   ],
   "metadata": {
    "collapsed": false,
    "ExecuteTime": {
     "end_time": "2023-06-08T18:41:50.563068467Z",
     "start_time": "2023-06-08T18:41:49.829439296Z"
    }
   }
  },
  {
   "cell_type": "markdown",
   "source": [
    "Let's create our function to generate our data."
   ],
   "metadata": {
    "collapsed": false
   }
  },
  {
   "cell_type": "code",
   "execution_count": 2,
   "outputs": [],
   "source": [
    "def sample_function(data):\n",
    "    return np.sin(data)"
   ],
   "metadata": {
    "collapsed": false,
    "ExecuteTime": {
     "end_time": "2023-06-08T18:42:01.768516099Z",
     "start_time": "2023-06-08T18:42:01.760519234Z"
    }
   }
  },
  {
   "cell_type": "markdown",
   "source": [
    "And generate our training and testing datasets:"
   ],
   "metadata": {
    "collapsed": false
   }
  },
  {
   "cell_type": "code",
   "execution_count": 3,
   "outputs": [],
   "source": [
    "#Training data\n",
    "\n",
    "x_train = np.linspace(0,2*np.pi, 10)\n",
    "# We tell the optimizer that this is an input datapoint, and not a parameter to optimize over.\n",
    "x_train.requires_grad = False\n",
    "y_train = sample_function(x_train)\n",
    "\n",
    "#Testing data\n",
    "x_test = np.linspace(0, 2*np.pi, 4)\n",
    "y_test = sample_function(x_test)"
   ],
   "metadata": {
    "collapsed": false,
    "ExecuteTime": {
     "end_time": "2023-06-08T18:42:02.747480975Z",
     "start_time": "2023-06-08T18:42:02.734809225Z"
    }
   }
  },
  {
   "cell_type": "markdown",
   "source": [
    "Now we create our quantum device using only one qubit (wires=1)"
   ],
   "metadata": {
    "collapsed": false
   }
  },
  {
   "cell_type": "code",
   "execution_count": 4,
   "outputs": [],
   "source": [
    "dev = qml.device('default.qubit', wires=1)"
   ],
   "metadata": {
    "collapsed": false,
    "ExecuteTime": {
     "end_time": "2023-06-08T18:42:03.556604538Z",
     "start_time": "2023-06-08T18:42:03.381643706Z"
    }
   }
  },
  {
   "cell_type": "markdown",
   "source": [
    "Next we create our quantum circuit"
   ],
   "metadata": {
    "collapsed": false
   }
  },
  {
   "cell_type": "code",
   "execution_count": 5,
   "outputs": [],
   "source": [
    "@qml.qnode(dev)\n",
    "def quantum_circuit(datapoint, params):\n",
    "    # Encode the input data as an RX rotation\n",
    "    qml.RX(datapoint, wires=0)\n",
    "    # Create a rotation based on the angles in \"params\"\n",
    "    qml.Rot(params[0], params[1], params[2], wires=0)\n",
    "    # We return the expected value of a measurement along the Z axis\n",
    "    return qml.expval(qml.PauliZ(wires=0))"
   ],
   "metadata": {
    "collapsed": false,
    "ExecuteTime": {
     "end_time": "2023-06-08T18:42:03.861095728Z",
     "start_time": "2023-06-08T18:42:03.826482503Z"
    }
   }
  },
  {
   "cell_type": "markdown",
   "source": [
    "Now the postprocessing function:"
   ],
   "metadata": {
    "collapsed": false
   }
  },
  {
   "cell_type": "code",
   "execution_count": 6,
   "outputs": [],
   "source": [
    "def loss_func(predictions, train_result):\n",
    "    # This is a postprocessing step. Here we use a least squares metric\n",
    "    # based on the predictions of the quantum circuit and the outputs\n",
    "    # of the training data points.\n",
    "    total_losses = 0\n",
    "    for i in range(len(train_result)):\n",
    "        output = train_result[i]\n",
    "        prediction = predictions[i]\n",
    "        loss = (prediction - output)**2\n",
    "        total_losses += loss\n",
    "    return total_losses"
   ],
   "metadata": {
    "collapsed": false,
    "ExecuteTime": {
     "end_time": "2023-06-08T18:42:04.318538204Z",
     "start_time": "2023-06-08T18:42:04.297416100Z"
    }
   }
  },
  {
   "cell_type": "markdown",
   "source": [
    "And finally the whole cost function"
   ],
   "metadata": {
    "collapsed": false
   }
  },
  {
   "cell_type": "code",
   "execution_count": 7,
   "outputs": [],
   "source": [
    "def cost_fn(params):\n",
    "    train_data = x_train\n",
    "    train_result = y_train\n",
    "    # We get the predictions of the quantum circuit for a specific\n",
    "    # set of parameters along the entire input dataset\n",
    "    predictions = [quantum_circuit(t, params)  for t in train_data]\n",
    "    # We calculate the cost including any classical postprocessing\n",
    "    cost = loss_func(predictions,train_result=train_result)\n",
    "    return cost\n"
   ],
   "metadata": {
    "collapsed": false,
    "ExecuteTime": {
     "end_time": "2023-06-08T18:42:05.134272625Z",
     "start_time": "2023-06-08T18:42:05.104514683Z"
    }
   }
  },
  {
   "cell_type": "markdown",
   "source": [
    "Now we can construct our model"
   ],
   "metadata": {
    "collapsed": false
   }
  },
  {
   "cell_type": "code",
   "execution_count": 8,
   "outputs": [
    {
     "name": "stdout",
     "output_type": "stream",
     "text": [
      "Step = 0 Cost = 8.496589466538875\n",
      "Step = 10 Cost = 1.4908033791072886\n",
      "Step = 20 Cost = 0.4525719535180654\n",
      "Step = 30 Cost = 0.18308328227820206\n",
      "Step = 40 Cost = 0.0570927170013767\n",
      "Step = 50 Cost = 0.011422260292770443\n",
      "Step = 60 Cost = 0.00024960217241919104\n",
      "Step = 70 Cost = 0.0011507798139345116\n",
      "Step = 80 Cost = 0.0012371688260067657\n",
      "Step = 90 Cost = 6.289907849216597e-05\n",
      "0: ──RX(0.00)──Rot(-1.63,1.57,0.10)─┤  <Z>\n"
     ]
    }
   ],
   "source": [
    "\n",
    "# We define the optimizer\n",
    "opt = qml.AdamOptimizer(stepsize=0.3)\n",
    "\n",
    "#  We make an initial guess for the parameters\n",
    "parameters = np.array([0.1,0.1,0.1], requires_grad=True)\n",
    "# We iterate over a number of defined steps\n",
    "step_num = 100\n",
    "for i in range (step_num):\n",
    "    # Over each step the parameters change to give a better cost\n",
    "    parameters, prev_cost = opt.step_and_cost(cost_fn, parameters)\n",
    "    if i%10 == 0:\n",
    "         # We print the result after every 10 steps\n",
    "        print(f'Step = {i} Cost = {cost_fn(parameters)}')\n",
    "\n",
    "\n",
    "# Printing the converged circuit\n",
    "print(qml.draw(quantum_circuit)(datapoint=x_train[0],params=parameters))\n",
    "\n"
   ],
   "metadata": {
    "collapsed": false,
    "ExecuteTime": {
     "end_time": "2023-06-08T18:42:11.012299953Z",
     "start_time": "2023-06-08T18:42:05.880234900Z"
    }
   }
  },
  {
   "cell_type": "markdown",
   "source": [
    "We show the results"
   ],
   "metadata": {
    "collapsed": false
   }
  },
  {
   "cell_type": "code",
   "execution_count": 9,
   "outputs": [
    {
     "data": {
      "text/plain": "<matplotlib.legend.Legend at 0x7f90e70b8c10>"
     },
     "execution_count": 9,
     "metadata": {},
     "output_type": "execute_result"
    },
    {
     "data": {
      "text/plain": "<Figure size 640x480 with 1 Axes>",
      "image/png": "[encoded data removed]"
     },
     "metadata": {},
     "output_type": "display_data"
    }
   ],
   "source": [
    "# Step 6 - Test and graph your results!\n",
    "test_predictions = []\n",
    "for x in x_test:\n",
    "    prediction = quantum_circuit(x,parameters)\n",
    "    test_predictions.append(prediction)\n",
    "\n",
    "fig = plt.figure()\n",
    "ax1 = fig.add_subplot(111)\n",
    "\n",
    "ax1.scatter(x_train, y_train, s=30, c='b', marker=\"s\", label='Train outputs')\n",
    "ax1.scatter(x_test, y_test, s=60, c='r', marker=\"o\", label='Test outputs')\n",
    "ax1.scatter(x_test,test_predictions, s=30, c='k', marker=\"x\", label='Test predictions')\n",
    "plt.xlabel(\"Inputs\")\n",
    "plt.ylabel(\"Outputs\")\n",
    "plt.title(\"QML results\")\n",
    "\n",
    "plt.legend(loc='upper right')"
   ],
   "metadata": {
    "collapsed": false,
    "ExecuteTime": {
     "end_time": "2023-06-08T18:42:11.258101913Z",
     "start_time": "2023-06-08T18:42:11.025279107Z"
    }
   }
  },
  {
   "cell_type": "code",
   "execution_count": null,
   "outputs": [],
   "source": [],
   "metadata": {
    "collapsed": false
   }
  }
 ],
 "metadata": {
  "kernelspec": {
   "display_name": "Python 3",
   "language": "python",
   "name": "python3"
  },
  "language_info": {
   "codemirror_mode": {
    "name": "ipython",
    "version": 2
   },
   "file_extension": ".py",
   "mimetype": "text/x-python",
   "name": "python",
   "nbconvert_exporter": "python",
   "pygments_lexer": "ipython2",
   "version": "2.7.6"
  }
 },
 "nbformat": 4,
 "nbformat_minor": 0
}
