{
 "cells": [
  {
   "cell_type": "markdown",
   "source": [
    "# Tensorflow-quantum Iris dataset categorization\n",
    "Starting with imports"
   ],
   "metadata": {
    "collapsed": false
   }
  },
  {
   "cell_type": "code",
   "execution_count": 1,
   "outputs": [
    {
     "name": "stderr",
     "output_type": "stream",
     "text": [
      "2023-06-09 03:02:43.030172: I tensorflow/core/platform/cpu_feature_guard.cc:193] This TensorFlow binary is optimized with oneAPI Deep Neural Network Library (oneDNN) to use the following CPU instructions in performance-critical operations:  AVX2 FMA\n",
      "To enable them in other operations, rebuild TensorFlow with the appropriate compiler flags.\n",
      "2023-06-09 03:02:43.156794: W tensorflow/compiler/xla/stream_executor/platform/default/dso_loader.cc:64] Could not load dynamic library 'libcudart.so.11.0'; dlerror: libcudart.so.11.0: cannot open shared object file: No such file or directory\n",
      "2023-06-09 03:02:43.156812: I tensorflow/compiler/xla/stream_executor/cuda/cudart_stub.cc:29] Ignore above cudart dlerror if you do not have a GPU set up on your machine.\n",
      "2023-06-09 03:02:43.795681: W tensorflow/compiler/xla/stream_executor/platform/default/dso_loader.cc:64] Could not load dynamic library 'libnvinfer.so.7'; dlerror: libnvinfer.so.7: cannot open shared object file: No such file or directory\n",
      "2023-06-09 03:02:43.795746: W tensorflow/compiler/xla/stream_executor/platform/default/dso_loader.cc:64] Could not load dynamic library 'libnvinfer_plugin.so.7'; dlerror: libnvinfer_plugin.so.7: cannot open shared object file: No such file or directory\n",
      "2023-06-09 03:02:43.795753: W tensorflow/compiler/tf2tensorrt/utils/py_utils.cc:38] TF-TRT Warning: Cannot dlopen some TensorRT libraries. If you would like to use Nvidia GPU with TensorRT, please make sure the missing libraries mentioned above are installed properly.\n",
      "2023-06-09 03:02:46.152841: W tensorflow/compiler/xla/stream_executor/platform/default/dso_loader.cc:64] Could not load dynamic library 'libcuda.so.1'; dlerror: libcuda.so.1: cannot open shared object file: No such file or directory\n",
      "2023-06-09 03:02:46.152858: W tensorflow/compiler/xla/stream_executor/cuda/cuda_driver.cc:265] failed call to cuInit: UNKNOWN ERROR (303)\n",
      "2023-06-09 03:02:46.152873: I tensorflow/compiler/xla/stream_executor/cuda/cuda_diagnostics.cc:156] kernel driver does not appear to be running on this host (Ygritte): /proc/driver/nvidia/version does not exist\n",
      "2023-06-09 03:02:46.153071: I tensorflow/core/platform/cpu_feature_guard.cc:193] This TensorFlow binary is optimized with oneAPI Deep Neural Network Library (oneDNN) to use the following CPU instructions in performance-critical operations:  AVX2 FMA\n",
      "To enable them in other operations, rebuild TensorFlow with the appropriate compiler flags.\n"
     ]
    }
   ],
   "source": [
    "import tensorflow as tf\n",
    "import tensorflow_quantum as tfq\n",
    "from tensorflow.keras import layers\n",
    "import pandas as pd\n",
    "import cirq\n",
    "import numpy as np\n",
    "from cirq.contrib.svg import SVGCircuit\n",
    "from tensorflow.keras import datasets, layers, models\n",
    "from tensorflow.keras.utils import to_categorical"
   ],
   "metadata": {
    "collapsed": false,
    "ExecuteTime": {
     "end_time": "2023-06-09T01:02:46.206903109Z",
     "start_time": "2023-06-09T01:02:42.989938549Z"
    }
   }
  },
  {
   "cell_type": "markdown",
   "source": [
    "Loading the data:"
   ],
   "metadata": {
    "collapsed": false
   }
  },
  {
   "cell_type": "code",
   "execution_count": 2,
   "outputs": [
    {
     "name": "stdout",
     "output_type": "stream",
     "text": [
      "data/iris_csv.csv\n"
     ]
    }
   ],
   "source": [
    "dataFolder = 'data/'\n",
    "dataFile = dataFolder + \"iris_csv.csv\"\n",
    "print(dataFile)"
   ],
   "metadata": {
    "collapsed": false,
    "ExecuteTime": {
     "end_time": "2023-06-09T01:03:07.779041095Z",
     "start_time": "2023-06-09T01:03:07.775932465Z"
    }
   }
  },
  {
   "cell_type": "markdown",
   "source": [
    "Creating pandas dataframe:"
   ],
   "metadata": {
    "collapsed": false
   }
  },
  {
   "cell_type": "code",
   "execution_count": 3,
   "outputs": [
    {
     "data": {
      "text/plain": "   sepallength  sepalwidth  petallength  petalwidth        class\n0          5.1         3.5          1.4         0.2  Iris-setosa\n1          4.9         3.0          1.4         0.2  Iris-setosa\n2          4.7         3.2          1.3         0.2  Iris-setosa\n3          4.6         3.1          1.5         0.2  Iris-setosa\n4          5.0         3.6          1.4         0.2  Iris-setosa",
      "text/html": "<div>\n<style scoped>\n    .dataframe tbody tr th:only-of-type {\n        vertical-align: middle;\n    }\n\n    .dataframe tbody tr th {\n        vertical-align: top;\n    }\n\n    .dataframe thead th {\n        text-align: right;\n    }\n</style>\n<table border=\"1\" class=\"dataframe\">\n  <thead>\n    <tr style=\"text-align: right;\">\n      <th></th>\n      <th>sepallength</th>\n      <th>sepalwidth</th>\n      <th>petallength</th>\n      <th>petalwidth</th>\n      <th>class</th>\n    </tr>\n  </thead>\n  <tbody>\n    <tr>\n      <th>0</th>\n      <td>5.1</td>\n      <td>3.5</td>\n      <td>1.4</td>\n      <td>0.2</td>\n      <td>Iris-setosa</td>\n    </tr>\n    <tr>\n      <th>1</th>\n      <td>4.9</td>\n      <td>3.0</td>\n      <td>1.4</td>\n      <td>0.2</td>\n      <td>Iris-setosa</td>\n    </tr>\n    <tr>\n      <th>2</th>\n      <td>4.7</td>\n      <td>3.2</td>\n      <td>1.3</td>\n      <td>0.2</td>\n      <td>Iris-setosa</td>\n    </tr>\n    <tr>\n      <th>3</th>\n      <td>4.6</td>\n      <td>3.1</td>\n      <td>1.5</td>\n      <td>0.2</td>\n      <td>Iris-setosa</td>\n    </tr>\n    <tr>\n      <th>4</th>\n      <td>5.0</td>\n      <td>3.6</td>\n      <td>1.4</td>\n      <td>0.2</td>\n      <td>Iris-setosa</td>\n    </tr>\n  </tbody>\n</table>\n</div>"
     },
     "execution_count": 3,
     "metadata": {},
     "output_type": "execute_result"
    }
   ],
   "source": [
    "df = pd.read_csv(dataFile)\n",
    "df.head()"
   ],
   "metadata": {
    "collapsed": false,
    "ExecuteTime": {
     "end_time": "2023-06-09T01:03:09.754916544Z",
     "start_time": "2023-06-09T01:03:09.709208439Z"
    }
   }
  },
  {
   "cell_type": "markdown",
   "source": [
    "Slicing data for training"
   ],
   "metadata": {
    "collapsed": false
   }
  },
  {
   "cell_type": "code",
   "execution_count": 4,
   "outputs": [],
   "source": [
    "X = df.iloc[:,0:4].values\n",
    "y = df.iloc[:,4].values"
   ],
   "metadata": {
    "collapsed": false,
    "ExecuteTime": {
     "end_time": "2023-06-09T01:03:12.193617332Z",
     "start_time": "2023-06-09T01:03:12.187180133Z"
    }
   }
  },
  {
   "cell_type": "code",
   "execution_count": 5,
   "outputs": [
    {
     "name": "stdout",
     "output_type": "stream",
     "text": [
      "[[5.1 3.5 1.4 0.2]\n",
      " [4.9 3.  1.4 0.2]\n",
      " [4.7 3.2 1.3 0.2]\n",
      " [4.6 3.1 1.5 0.2]\n",
      " [5.  3.6 1.4 0.2]]\n",
      "['Iris-setosa' 'Iris-setosa' 'Iris-setosa' 'Iris-setosa' 'Iris-setosa']\n"
     ]
    }
   ],
   "source": [
    "print(X[0:5])\n",
    "print(y[0:5])"
   ],
   "metadata": {
    "collapsed": false,
    "ExecuteTime": {
     "end_time": "2023-06-09T01:03:12.922114532Z",
     "start_time": "2023-06-09T01:03:12.878669537Z"
    }
   }
  },
  {
   "cell_type": "code",
   "execution_count": 6,
   "outputs": [
    {
     "name": "stdout",
     "output_type": "stream",
     "text": [
      "(150, 4)\n",
      "(150,)\n"
     ]
    }
   ],
   "source": [
    "print(X.shape)\n",
    "print(y.shape)"
   ],
   "metadata": {
    "collapsed": false,
    "ExecuteTime": {
     "end_time": "2023-06-09T01:03:13.740743213Z",
     "start_time": "2023-06-09T01:03:13.711210962Z"
    }
   }
  },
  {
   "cell_type": "markdown",
   "source": [
    "Encoding the labels into numbers"
   ],
   "metadata": {
    "collapsed": false
   }
  },
  {
   "cell_type": "code",
   "execution_count": 7,
   "outputs": [],
   "source": [
    "from sklearn.preprocessing import LabelEncoder\n",
    "encoder =  LabelEncoder()\n",
    "y1 = encoder.fit_transform(y)"
   ],
   "metadata": {
    "collapsed": false,
    "ExecuteTime": {
     "end_time": "2023-06-09T01:03:15.276055427Z",
     "start_time": "2023-06-09T01:03:15.230892631Z"
    }
   }
  },
  {
   "cell_type": "code",
   "execution_count": 8,
   "outputs": [
    {
     "name": "stdout",
     "output_type": "stream",
     "text": [
      "[0 0 0 0 0 0 0 0 0 0 0 0 0 0 0 0 0 0 0 0 0 0 0 0 0 0 0 0 0 0 0 0 0 0 0 0 0\n",
      " 0 0 0 0 0 0 0 0 0 0 0 0 0 1 1 1 1 1 1 1 1 1 1 1 1 1 1 1 1 1 1 1 1 1 1 1 1\n",
      " 1 1 1 1 1 1 1 1 1 1 1 1 1 1 1 1 1 1 1 1 1 1 1 1 1 1 2 2 2 2 2 2 2 2 2 2 2\n",
      " 2 2 2 2 2 2 2 2 2 2 2 2 2 2 2 2 2 2 2 2 2 2 2 2 2 2 2 2 2 2 2 2 2 2 2 2 2\n",
      " 2 2]\n"
     ]
    }
   ],
   "source": [
    "print(y1)"
   ],
   "metadata": {
    "collapsed": false,
    "ExecuteTime": {
     "end_time": "2023-06-09T01:03:16.166036874Z",
     "start_time": "2023-06-09T01:03:16.160241558Z"
    }
   }
  },
  {
   "cell_type": "markdown",
   "source": [
    "Splitting data into train and test parts:"
   ],
   "metadata": {
    "collapsed": false
   }
  },
  {
   "cell_type": "code",
   "execution_count": 9,
   "outputs": [],
   "source": [
    "from sklearn.model_selection import train_test_split"
   ],
   "metadata": {
    "collapsed": false,
    "ExecuteTime": {
     "end_time": "2023-06-09T01:03:17.433302923Z",
     "start_time": "2023-06-09T01:03:17.411863721Z"
    }
   }
  },
  {
   "cell_type": "code",
   "execution_count": 10,
   "outputs": [],
   "source": [
    "X_train, X_test, y_train, y_test = train_test_split(X, y1, test_size=0.2, random_state=0)"
   ],
   "metadata": {
    "collapsed": false,
    "ExecuteTime": {
     "end_time": "2023-06-09T01:03:18.271305067Z",
     "start_time": "2023-06-09T01:03:18.267141924Z"
    }
   }
  },
  {
   "cell_type": "code",
   "execution_count": 11,
   "outputs": [
    {
     "name": "stdout",
     "output_type": "stream",
     "text": [
      "[[6.4 3.1 5.5 1.8]\n",
      " [5.4 3.  4.5 1.5]\n",
      " [5.2 3.5 1.5 0.2]\n",
      " [6.1 3.  4.9 1.8]\n",
      " [6.4 2.8 5.6 2.2]]\n"
     ]
    }
   ],
   "source": [
    "print(X_train[0:5])"
   ],
   "metadata": {
    "collapsed": false,
    "ExecuteTime": {
     "end_time": "2023-06-09T01:03:18.825576336Z",
     "start_time": "2023-06-09T01:03:18.818756747Z"
    }
   }
  },
  {
   "cell_type": "markdown",
   "source": [
    "Encoding the data into quantum circuits:"
   ],
   "metadata": {
    "collapsed": false
   }
  },
  {
   "cell_type": "code",
   "execution_count": 12,
   "outputs": [],
   "source": [
    "def convert_to_circuit(data):\n",
    "    \"\"\"Encode truncated classical image into quantum datapoint.\"\"\"\n",
    "    values = data\n",
    "    qubits = cirq.GridQubit.rect(4, 1)\n",
    "    circuit = cirq.Circuit()\n",
    "    for i, value in enumerate(values):\n",
    "        gate = cirq.Ry(rads=value)\n",
    "        circuit.append(gate.on(qubits[i]))\n",
    "\n",
    "    return circuit"
   ],
   "metadata": {
    "collapsed": false,
    "ExecuteTime": {
     "end_time": "2023-06-09T01:03:20.368465161Z",
     "start_time": "2023-06-09T01:03:20.344238113Z"
    }
   }
  },
  {
   "cell_type": "code",
   "execution_count": 13,
   "outputs": [],
   "source": [
    "x_train_circ = [convert_to_circuit(x) for x in X_train]\n",
    "x_test_circ = [convert_to_circuit(x) for x in X_test]"
   ],
   "metadata": {
    "collapsed": false,
    "ExecuteTime": {
     "end_time": "2023-06-09T01:03:21.143055390Z",
     "start_time": "2023-06-09T01:03:21.101877065Z"
    }
   }
  },
  {
   "cell_type": "code",
   "execution_count": 14,
   "outputs": [
    {
     "name": "stdout",
     "output_type": "stream",
     "text": [
      "(0, 0): ───Ry(-1.96π)───\n",
      "\n",
      "(1, 0): ───Ry(0.987π)───\n",
      "\n",
      "(2, 0): ───Ry(1.75π)────\n",
      "\n",
      "(3, 0): ───Ry(0.573π)───\n"
     ]
    }
   ],
   "source": [
    "print(x_train_circ[0])"
   ],
   "metadata": {
    "collapsed": false,
    "ExecuteTime": {
     "end_time": "2023-06-09T01:03:22.147408562Z",
     "start_time": "2023-06-09T01:03:22.143040870Z"
    }
   }
  },
  {
   "cell_type": "markdown",
   "source": [
    "Converting to tensorflow tensors:"
   ],
   "metadata": {
    "collapsed": false
   }
  },
  {
   "cell_type": "code",
   "execution_count": 15,
   "outputs": [],
   "source": [
    "x_train_tfcirc = tfq.convert_to_tensor(x_train_circ)\n",
    "x_test_tfcirc = tfq.convert_to_tensor(x_test_circ)"
   ],
   "metadata": {
    "collapsed": false,
    "ExecuteTime": {
     "end_time": "2023-06-09T01:03:24.140052125Z",
     "start_time": "2023-06-09T01:03:23.959423879Z"
    }
   }
  },
  {
   "cell_type": "markdown",
   "source": [
    "Writing a dunction to build a quantum layer:"
   ],
   "metadata": {
    "collapsed": false
   }
  },
  {
   "cell_type": "code",
   "execution_count": 16,
   "outputs": [],
   "source": [
    "import sympy\n",
    "\n",
    "\n",
    "class CircuitLayerBuilder():\n",
    "    def __init__(self, data_qubits, readout):\n",
    "        self.data_qubits = data_qubits\n",
    "        self.readout = readout\n",
    "\n",
    "    def add_layer(self, circuit, gate, prefix):\n",
    "        for i, qubit in enumerate(self.data_qubits):\n",
    "            symbol = sympy.Symbol(prefix + '-' + str(i))\n",
    "            circuit.append(gate(qubit, self.readout)**symbol)\n"
   ],
   "metadata": {
    "collapsed": false,
    "ExecuteTime": {
     "end_time": "2023-06-09T01:03:25.374722844Z",
     "start_time": "2023-06-09T01:03:25.331675972Z"
    }
   }
  },
  {
   "cell_type": "markdown",
   "source": [
    "Creating demo circuit to visualize it:"
   ],
   "metadata": {
    "collapsed": false
   }
  },
  {
   "cell_type": "code",
   "execution_count": 17,
   "outputs": [
    {
     "name": "stderr",
     "output_type": "stream",
     "text": [
      "findfont: Font family 'Arial' not found.\n",
      "findfont: Font family 'Arial' not found.\n",
      "findfont: Font family 'Arial' not found.\n",
      "findfont: Font family 'Arial' not found.\n",
      "findfont: Font family 'Arial' not found.\n",
      "findfont: Font family 'Arial' not found.\n",
      "findfont: Font family 'Arial' not found.\n",
      "findfont: Font family 'Arial' not found.\n",
      "findfont: Font family 'Arial' not found.\n",
      "findfont: Font family 'Arial' not found.\n",
      "findfont: Font family 'Arial' not found.\n",
      "findfont: Font family 'Arial' not found.\n",
      "findfont: Font family 'Arial' not found.\n"
     ]
    },
    {
     "data": {
      "text/plain": "<cirq.contrib.svg.svg.SVGCircuit at 0x7f37aaa3bc40>",
      "image/svg+xml": "<svg xmlns=\"http://www.w3.org/2000/svg\" width=\"522.59953125\" height=\"250.0\"><line x1=\"39.810625\" x2=\"492.59953125000004\" y1=\"25.0\" y2=\"25.0\" stroke=\"#1967d2\" stroke-width=\"1\" /><line x1=\"39.810625\" x2=\"492.59953125000004\" y1=\"75.0\" y2=\"75.0\" stroke=\"#1967d2\" stroke-width=\"1\" /><line x1=\"39.810625\" x2=\"492.59953125000004\" y1=\"125.0\" y2=\"125.0\" stroke=\"#1967d2\" stroke-width=\"1\" /><line x1=\"39.810625\" x2=\"492.59953125000004\" y1=\"175.0\" y2=\"175.0\" stroke=\"#1967d2\" stroke-width=\"1\" /><line x1=\"39.810625\" x2=\"492.59953125000004\" y1=\"225.0\" y2=\"225.0\" stroke=\"#1967d2\" stroke-width=\"1\" /><line x1=\"129.99353515625\" x2=\"129.99353515625\" y1=\"25.0\" y2=\"75.0\" stroke=\"black\" stroke-width=\"3\" /><line x1=\"230.73810546875004\" x2=\"230.73810546875004\" y1=\"25.0\" y2=\"125.0\" stroke=\"black\" stroke-width=\"3\" /><line x1=\"331.48267578125007\" x2=\"331.48267578125007\" y1=\"25.0\" y2=\"175.0\" stroke=\"black\" stroke-width=\"3\" /><line x1=\"432.22724609375007\" x2=\"432.22724609375007\" y1=\"25.0\" y2=\"225.0\" stroke=\"black\" stroke-width=\"3\" /><rect x=\"10.0\" y=\"5.0\" width=\"59.62125\" height=\"40\" stroke=\"black\" fill=\"white\" stroke-width=\"0\" /><text x=\"39.810625\" y=\"25.0\" dominant-baseline=\"middle\" text-anchor=\"middle\" font-size=\"14px\" font-family=\"Arial\">(-1, -1): </text><rect x=\"10.0\" y=\"55.0\" width=\"59.62125\" height=\"40\" stroke=\"black\" fill=\"white\" stroke-width=\"0\" /><text x=\"39.810625\" y=\"75.0\" dominant-baseline=\"middle\" text-anchor=\"middle\" font-size=\"14px\" font-family=\"Arial\">(0, 0): </text><rect x=\"10.0\" y=\"105.0\" width=\"59.62125\" height=\"40\" stroke=\"black\" fill=\"white\" stroke-width=\"0\" /><text x=\"39.810625\" y=\"125.0\" dominant-baseline=\"middle\" text-anchor=\"middle\" font-size=\"14px\" font-family=\"Arial\">(1, 0): </text><rect x=\"10.0\" y=\"155.0\" width=\"59.62125\" height=\"40\" stroke=\"black\" fill=\"white\" stroke-width=\"0\" /><text x=\"39.810625\" y=\"175.0\" dominant-baseline=\"middle\" text-anchor=\"middle\" font-size=\"14px\" font-family=\"Arial\">(2, 0): </text><rect x=\"10.0\" y=\"205.0\" width=\"59.62125\" height=\"40\" stroke=\"black\" fill=\"white\" stroke-width=\"0\" /><text x=\"39.810625\" y=\"225.0\" dominant-baseline=\"middle\" text-anchor=\"middle\" font-size=\"14px\" font-family=\"Arial\">(3, 0): </text><rect x=\"89.62125\" y=\"55.0\" width=\"80.74457031250002\" height=\"40\" stroke=\"black\" fill=\"white\" stroke-width=\"1\" /><text x=\"129.99353515625\" y=\"75.0\" dominant-baseline=\"middle\" text-anchor=\"middle\" font-size=\"14px\" font-family=\"Arial\">XX^(xx-0)</text><rect x=\"89.62125\" y=\"5.0\" width=\"80.74457031250002\" height=\"40\" stroke=\"black\" fill=\"white\" stroke-width=\"1\" /><text x=\"129.99353515625\" y=\"25.0\" dominant-baseline=\"middle\" text-anchor=\"middle\" font-size=\"14px\" font-family=\"Arial\">XX</text><rect x=\"190.36582031250003\" y=\"105.0\" width=\"80.74457031250002\" height=\"40\" stroke=\"black\" fill=\"white\" stroke-width=\"1\" /><text x=\"230.73810546875004\" y=\"125.0\" dominant-baseline=\"middle\" text-anchor=\"middle\" font-size=\"14px\" font-family=\"Arial\">XX^(xx-1)</text><rect x=\"190.36582031250003\" y=\"5.0\" width=\"80.74457031250002\" height=\"40\" stroke=\"black\" fill=\"white\" stroke-width=\"1\" /><text x=\"230.73810546875004\" y=\"25.0\" dominant-baseline=\"middle\" text-anchor=\"middle\" font-size=\"14px\" font-family=\"Arial\">XX</text><rect x=\"291.11039062500004\" y=\"155.0\" width=\"80.74457031250002\" height=\"40\" stroke=\"black\" fill=\"white\" stroke-width=\"1\" /><text x=\"331.48267578125007\" y=\"175.0\" dominant-baseline=\"middle\" text-anchor=\"middle\" font-size=\"14px\" font-family=\"Arial\">XX^(xx-2)</text><rect x=\"291.11039062500004\" y=\"5.0\" width=\"80.74457031250002\" height=\"40\" stroke=\"black\" fill=\"white\" stroke-width=\"1\" /><text x=\"331.48267578125007\" y=\"25.0\" dominant-baseline=\"middle\" text-anchor=\"middle\" font-size=\"14px\" font-family=\"Arial\">XX</text><rect x=\"391.85496093750004\" y=\"205.0\" width=\"80.74457031250002\" height=\"40\" stroke=\"black\" fill=\"white\" stroke-width=\"1\" /><text x=\"432.22724609375007\" y=\"225.0\" dominant-baseline=\"middle\" text-anchor=\"middle\" font-size=\"14px\" font-family=\"Arial\">XX^(xx-3)</text><rect x=\"391.85496093750004\" y=\"5.0\" width=\"80.74457031250002\" height=\"40\" stroke=\"black\" fill=\"white\" stroke-width=\"1\" /><text x=\"432.22724609375007\" y=\"25.0\" dominant-baseline=\"middle\" text-anchor=\"middle\" font-size=\"14px\" font-family=\"Arial\">XX</text></svg>"
     },
     "execution_count": 17,
     "metadata": {},
     "output_type": "execute_result"
    }
   ],
   "source": [
    "demo_builder = CircuitLayerBuilder(data_qubits = cirq.GridQubit.rect(4,1),\n",
    "                                   readout=cirq.GridQubit(-1,-1))\n",
    "\n",
    "circuit = cirq.Circuit()\n",
    "demo_builder.add_layer(circuit, gate = cirq.XX, prefix='xx')\n",
    "SVGCircuit(circuit)"
   ],
   "metadata": {
    "collapsed": false,
    "ExecuteTime": {
     "end_time": "2023-06-09T01:03:27.045480958Z",
     "start_time": "2023-06-09T01:03:26.827175067Z"
    }
   }
  },
  {
   "cell_type": "markdown",
   "source": [
    "Creating our quantum NN model:"
   ],
   "metadata": {
    "collapsed": false
   }
  },
  {
   "cell_type": "code",
   "execution_count": 18,
   "outputs": [],
   "source": [
    "def create_quantum_model():\n",
    "    \"\"\"Create a QNN model circuit and readout operation to go along with it.\"\"\"\n",
    "    data_qubits = cirq.GridQubit.rect(4, 1)  # a 4x1 grid.\n",
    "    readout = cirq.GridQubit(-1, -1)         # a single qubit at [-1,-1]\n",
    "    circuit = cirq.Circuit()\n",
    "\n",
    "    # Prepare the readout qubit.\n",
    "    circuit.append(cirq.X(readout))\n",
    "    circuit.append(cirq.H(readout))\n",
    "\n",
    "    builder = CircuitLayerBuilder(\n",
    "        data_qubits = data_qubits,\n",
    "        readout=readout)\n",
    "\n",
    "    # Then add layers (experiment by adding more).\n",
    "    builder.add_layer(circuit, cirq.XX, \"xx1\")\n",
    "    builder.add_layer(circuit, cirq.ZZ, \"zz1\")\n",
    "\n",
    "    # Finally, prepare the readout qubit.\n",
    "    circuit.append(cirq.H(readout))\n",
    "\n",
    "    return circuit, cirq.Z(readout)\n"
   ],
   "metadata": {
    "collapsed": false,
    "ExecuteTime": {
     "end_time": "2023-06-09T01:03:30.238958731Z",
     "start_time": "2023-06-09T01:03:30.204388022Z"
    }
   }
  },
  {
   "cell_type": "code",
   "execution_count": 19,
   "outputs": [],
   "source": [
    "model_circuit, model_readout = create_quantum_model()\n"
   ],
   "metadata": {
    "collapsed": false,
    "ExecuteTime": {
     "end_time": "2023-06-09T01:03:31.122236823Z",
     "start_time": "2023-06-09T01:03:31.092359913Z"
    }
   }
  },
  {
   "cell_type": "markdown",
   "source": [
    "Building the Keras model with our quantum layer:"
   ],
   "metadata": {
    "collapsed": false
   }
  },
  {
   "cell_type": "code",
   "execution_count": 20,
   "outputs": [],
   "source": [
    "# Build the Keras model.\n",
    "model = tf.keras.Sequential([\n",
    "    # The input is the data-circuit, encoded as a tf.string\n",
    "    tf.keras.layers.Input(shape=(), dtype=tf.string),\n",
    "    # The PQC layer returns the expected value of the readout gate, range [-1,1].\n",
    "    tfq.layers.PQC(model_circuit, model_readout),\n",
    "])"
   ],
   "metadata": {
    "collapsed": false,
    "ExecuteTime": {
     "end_time": "2023-06-09T01:03:33.109666642Z",
     "start_time": "2023-06-09T01:03:32.128162689Z"
    }
   }
  },
  {
   "cell_type": "markdown",
   "source": [
    "Creating function for accuracy and compiling our model:"
   ],
   "metadata": {
    "collapsed": false
   }
  },
  {
   "cell_type": "code",
   "execution_count": 21,
   "outputs": [],
   "source": [
    "def hinge_accuracy(y_true, y_pred):\n",
    "    y_true = tf.squeeze(y_true) > 0.0\n",
    "    y_pred = tf.squeeze(y_pred) > 0.0\n",
    "    result = tf.cast(y_true == y_pred, tf.float32)\n",
    "\n",
    "    return tf.reduce_mean(result)"
   ],
   "metadata": {
    "collapsed": false,
    "ExecuteTime": {
     "end_time": "2023-06-09T01:03:34.100812854Z",
     "start_time": "2023-06-09T01:03:34.082073126Z"
    }
   }
  },
  {
   "cell_type": "code",
   "execution_count": 22,
   "outputs": [],
   "source": [
    "model.compile(\n",
    "    loss=tf.keras.losses.Hinge(),\n",
    "    optimizer=tf.keras.optimizers.Adam(),\n",
    "    metrics=[hinge_accuracy])\n"
   ],
   "metadata": {
    "collapsed": false,
    "ExecuteTime": {
     "end_time": "2023-06-09T01:03:34.950322282Z",
     "start_time": "2023-06-09T01:03:34.924379406Z"
    }
   }
  },
  {
   "cell_type": "code",
   "execution_count": 23,
   "outputs": [
    {
     "name": "stdout",
     "output_type": "stream",
     "text": [
      "Model: \"sequential\"\n",
      "_________________________________________________________________\n",
      " Layer (type)                Output Shape              Param #   \n",
      "=================================================================\n",
      " pqc (PQC)                   (None, 1)                 8         \n",
      "                                                                 \n",
      "=================================================================\n",
      "Total params: 8\n",
      "Trainable params: 8\n",
      "Non-trainable params: 0\n",
      "_________________________________________________________________\n",
      "None\n"
     ]
    }
   ],
   "source": [
    "print(model.summary())"
   ],
   "metadata": {
    "collapsed": false,
    "ExecuteTime": {
     "end_time": "2023-06-09T01:03:35.708041933Z",
     "start_time": "2023-06-09T01:03:35.627572609Z"
    }
   }
  },
  {
   "cell_type": "markdown",
   "source": [
    "Training our model with our data encoded into quantum circuits:"
   ],
   "metadata": {
    "collapsed": false
   }
  },
  {
   "cell_type": "code",
   "execution_count": 24,
   "outputs": [],
   "source": [
    "EPOCHS = 100\n",
    "BATCH_SIZE = 50\n"
   ],
   "metadata": {
    "collapsed": false,
    "ExecuteTime": {
     "end_time": "2023-06-09T01:03:37.235617791Z",
     "start_time": "2023-06-09T01:03:37.184790358Z"
    }
   }
  },
  {
   "cell_type": "code",
   "execution_count": 25,
   "outputs": [
    {
     "name": "stdout",
     "output_type": "stream",
     "text": [
      "Epoch 1/100\n",
      "3/3 [==============================] - 1s 110ms/step - loss: 0.8111 - hinge_accuracy: 0.6133 - val_loss: 0.8735 - val_hinge_accuracy: 0.5667\n",
      "Epoch 2/100\n",
      "3/3 [==============================] - 0s 23ms/step - loss: 0.8012 - hinge_accuracy: 0.6567 - val_loss: 0.8654 - val_hinge_accuracy: 0.6000\n",
      "Epoch 3/100\n",
      "3/3 [==============================] - 0s 23ms/step - loss: 0.7913 - hinge_accuracy: 0.6500 - val_loss: 0.8574 - val_hinge_accuracy: 0.6333\n",
      "Epoch 4/100\n",
      "3/3 [==============================] - 0s 24ms/step - loss: 0.7810 - hinge_accuracy: 0.6633 - val_loss: 0.8491 - val_hinge_accuracy: 0.6333\n",
      "Epoch 5/100\n",
      "3/3 [==============================] - 0s 23ms/step - loss: 0.7711 - hinge_accuracy: 0.6433 - val_loss: 0.8406 - val_hinge_accuracy: 0.6333\n",
      "Epoch 6/100\n",
      "3/3 [==============================] - 0s 25ms/step - loss: 0.7606 - hinge_accuracy: 0.6533 - val_loss: 0.8320 - val_hinge_accuracy: 0.6333\n",
      "Epoch 7/100\n",
      "3/3 [==============================] - 0s 23ms/step - loss: 0.7496 - hinge_accuracy: 0.7033 - val_loss: 0.8231 - val_hinge_accuracy: 0.6333\n",
      "Epoch 8/100\n",
      "3/3 [==============================] - 0s 23ms/step - loss: 0.7383 - hinge_accuracy: 0.7200 - val_loss: 0.8140 - val_hinge_accuracy: 0.6333\n",
      "Epoch 9/100\n",
      "3/3 [==============================] - 0s 25ms/step - loss: 0.7274 - hinge_accuracy: 0.6800 - val_loss: 0.8046 - val_hinge_accuracy: 0.6333\n",
      "Epoch 10/100\n",
      "3/3 [==============================] - 0s 25ms/step - loss: 0.7159 - hinge_accuracy: 0.6900 - val_loss: 0.7950 - val_hinge_accuracy: 0.6333\n",
      "Epoch 11/100\n",
      "3/3 [==============================] - 0s 23ms/step - loss: 0.7042 - hinge_accuracy: 0.6900 - val_loss: 0.7852 - val_hinge_accuracy: 0.6333\n",
      "Epoch 12/100\n",
      "3/3 [==============================] - 0s 24ms/step - loss: 0.6919 - hinge_accuracy: 0.6600 - val_loss: 0.7752 - val_hinge_accuracy: 0.6333\n",
      "Epoch 13/100\n",
      "3/3 [==============================] - 0s 23ms/step - loss: 0.6799 - hinge_accuracy: 0.6900 - val_loss: 0.7650 - val_hinge_accuracy: 0.6333\n",
      "Epoch 14/100\n",
      "3/3 [==============================] - 0s 28ms/step - loss: 0.6680 - hinge_accuracy: 0.6700 - val_loss: 0.7546 - val_hinge_accuracy: 0.6333\n",
      "Epoch 15/100\n",
      "3/3 [==============================] - 0s 24ms/step - loss: 0.6545 - hinge_accuracy: 0.6900 - val_loss: 0.7441 - val_hinge_accuracy: 0.6333\n",
      "Epoch 16/100\n",
      "3/3 [==============================] - 0s 25ms/step - loss: 0.6417 - hinge_accuracy: 0.6900 - val_loss: 0.7339 - val_hinge_accuracy: 0.6333\n",
      "Epoch 17/100\n",
      "3/3 [==============================] - 0s 23ms/step - loss: 0.6287 - hinge_accuracy: 0.6900 - val_loss: 0.7237 - val_hinge_accuracy: 0.6333\n",
      "Epoch 18/100\n",
      "3/3 [==============================] - 0s 24ms/step - loss: 0.6159 - hinge_accuracy: 0.6800 - val_loss: 0.7134 - val_hinge_accuracy: 0.6333\n",
      "Epoch 19/100\n",
      "3/3 [==============================] - 0s 23ms/step - loss: 0.6022 - hinge_accuracy: 0.6800 - val_loss: 0.7031 - val_hinge_accuracy: 0.6333\n",
      "Epoch 20/100\n",
      "3/3 [==============================] - 0s 23ms/step - loss: 0.5901 - hinge_accuracy: 0.6600 - val_loss: 0.6927 - val_hinge_accuracy: 0.6333\n",
      "Epoch 21/100\n",
      "3/3 [==============================] - 0s 23ms/step - loss: 0.5782 - hinge_accuracy: 0.7000 - val_loss: 0.6825 - val_hinge_accuracy: 0.6333\n",
      "Epoch 22/100\n",
      "3/3 [==============================] - 0s 24ms/step - loss: 0.5680 - hinge_accuracy: 0.7300 - val_loss: 0.6722 - val_hinge_accuracy: 0.6333\n",
      "Epoch 23/100\n",
      "3/3 [==============================] - 0s 24ms/step - loss: 0.5575 - hinge_accuracy: 0.6800 - val_loss: 0.6626 - val_hinge_accuracy: 0.6333\n",
      "Epoch 24/100\n",
      "3/3 [==============================] - 0s 27ms/step - loss: 0.5487 - hinge_accuracy: 0.6800 - val_loss: 0.6536 - val_hinge_accuracy: 0.6333\n",
      "Epoch 25/100\n",
      "3/3 [==============================] - 0s 23ms/step - loss: 0.5402 - hinge_accuracy: 0.7200 - val_loss: 0.6452 - val_hinge_accuracy: 0.6333\n",
      "Epoch 26/100\n",
      "3/3 [==============================] - 0s 27ms/step - loss: 0.5328 - hinge_accuracy: 0.6800 - val_loss: 0.6376 - val_hinge_accuracy: 0.6333\n",
      "Epoch 27/100\n",
      "3/3 [==============================] - 0s 27ms/step - loss: 0.5257 - hinge_accuracy: 0.6500 - val_loss: 0.6304 - val_hinge_accuracy: 0.6333\n",
      "Epoch 28/100\n",
      "3/3 [==============================] - 0s 24ms/step - loss: 0.5193 - hinge_accuracy: 0.7200 - val_loss: 0.6238 - val_hinge_accuracy: 0.6333\n",
      "Epoch 29/100\n",
      "3/3 [==============================] - 0s 27ms/step - loss: 0.5137 - hinge_accuracy: 0.6400 - val_loss: 0.6178 - val_hinge_accuracy: 0.6333\n",
      "Epoch 30/100\n",
      "3/3 [==============================] - 0s 28ms/step - loss: 0.5082 - hinge_accuracy: 0.6800 - val_loss: 0.6126 - val_hinge_accuracy: 0.6333\n",
      "Epoch 31/100\n",
      "3/3 [==============================] - 0s 29ms/step - loss: 0.5036 - hinge_accuracy: 0.6900 - val_loss: 0.6077 - val_hinge_accuracy: 0.6333\n",
      "Epoch 32/100\n",
      "3/3 [==============================] - 0s 28ms/step - loss: 0.4992 - hinge_accuracy: 0.6700 - val_loss: 0.6031 - val_hinge_accuracy: 0.6333\n",
      "Epoch 33/100\n",
      "3/3 [==============================] - 0s 25ms/step - loss: 0.4950 - hinge_accuracy: 0.6900 - val_loss: 0.5987 - val_hinge_accuracy: 0.6333\n",
      "Epoch 34/100\n",
      "3/3 [==============================] - 0s 25ms/step - loss: 0.4916 - hinge_accuracy: 0.7000 - val_loss: 0.5946 - val_hinge_accuracy: 0.6333\n",
      "Epoch 35/100\n",
      "3/3 [==============================] - 0s 28ms/step - loss: 0.4885 - hinge_accuracy: 0.6800 - val_loss: 0.5906 - val_hinge_accuracy: 0.6333\n",
      "Epoch 36/100\n",
      "3/3 [==============================] - 0s 23ms/step - loss: 0.4855 - hinge_accuracy: 0.6600 - val_loss: 0.5867 - val_hinge_accuracy: 0.6333\n",
      "Epoch 37/100\n",
      "3/3 [==============================] - 0s 22ms/step - loss: 0.4826 - hinge_accuracy: 0.6400 - val_loss: 0.5830 - val_hinge_accuracy: 0.6333\n",
      "Epoch 38/100\n",
      "3/3 [==============================] - 0s 24ms/step - loss: 0.4799 - hinge_accuracy: 0.6700 - val_loss: 0.5794 - val_hinge_accuracy: 0.6333\n",
      "Epoch 39/100\n",
      "3/3 [==============================] - 0s 23ms/step - loss: 0.4775 - hinge_accuracy: 0.7100 - val_loss: 0.5759 - val_hinge_accuracy: 0.6333\n",
      "Epoch 40/100\n",
      "3/3 [==============================] - 0s 25ms/step - loss: 0.4749 - hinge_accuracy: 0.7000 - val_loss: 0.5725 - val_hinge_accuracy: 0.6333\n",
      "Epoch 41/100\n",
      "3/3 [==============================] - 0s 22ms/step - loss: 0.4724 - hinge_accuracy: 0.6800 - val_loss: 0.5692 - val_hinge_accuracy: 0.6333\n",
      "Epoch 42/100\n",
      "3/3 [==============================] - 0s 25ms/step - loss: 0.4699 - hinge_accuracy: 0.6900 - val_loss: 0.5660 - val_hinge_accuracy: 0.6333\n",
      "Epoch 43/100\n",
      "3/3 [==============================] - 0s 23ms/step - loss: 0.4676 - hinge_accuracy: 0.6700 - val_loss: 0.5628 - val_hinge_accuracy: 0.6333\n",
      "Epoch 44/100\n",
      "3/3 [==============================] - 0s 24ms/step - loss: 0.4652 - hinge_accuracy: 0.6700 - val_loss: 0.5597 - val_hinge_accuracy: 0.6333\n",
      "Epoch 45/100\n",
      "3/3 [==============================] - 0s 22ms/step - loss: 0.4631 - hinge_accuracy: 0.6900 - val_loss: 0.5566 - val_hinge_accuracy: 0.6333\n",
      "Epoch 46/100\n",
      "3/3 [==============================] - 0s 22ms/step - loss: 0.4607 - hinge_accuracy: 0.6800 - val_loss: 0.5535 - val_hinge_accuracy: 0.6333\n",
      "Epoch 47/100\n",
      "3/3 [==============================] - 0s 26ms/step - loss: 0.4584 - hinge_accuracy: 0.6800 - val_loss: 0.5505 - val_hinge_accuracy: 0.6333\n",
      "Epoch 48/100\n",
      "3/3 [==============================] - 0s 23ms/step - loss: 0.4563 - hinge_accuracy: 0.7000 - val_loss: 0.5474 - val_hinge_accuracy: 0.6333\n",
      "Epoch 49/100\n",
      "3/3 [==============================] - 0s 25ms/step - loss: 0.4541 - hinge_accuracy: 0.6700 - val_loss: 0.5444 - val_hinge_accuracy: 0.6333\n",
      "Epoch 50/100\n",
      "3/3 [==============================] - 0s 24ms/step - loss: 0.4519 - hinge_accuracy: 0.6700 - val_loss: 0.5414 - val_hinge_accuracy: 0.6333\n",
      "Epoch 51/100\n",
      "3/3 [==============================] - 0s 25ms/step - loss: 0.4497 - hinge_accuracy: 0.6600 - val_loss: 0.5386 - val_hinge_accuracy: 0.6333\n",
      "Epoch 52/100\n",
      "3/3 [==============================] - 0s 23ms/step - loss: 0.4477 - hinge_accuracy: 0.6800 - val_loss: 0.5357 - val_hinge_accuracy: 0.6333\n",
      "Epoch 53/100\n",
      "3/3 [==============================] - 0s 22ms/step - loss: 0.4456 - hinge_accuracy: 0.6600 - val_loss: 0.5329 - val_hinge_accuracy: 0.6333\n",
      "Epoch 54/100\n",
      "3/3 [==============================] - 0s 23ms/step - loss: 0.4436 - hinge_accuracy: 0.6900 - val_loss: 0.5301 - val_hinge_accuracy: 0.6333\n",
      "Epoch 55/100\n",
      "3/3 [==============================] - 0s 25ms/step - loss: 0.4415 - hinge_accuracy: 0.6700 - val_loss: 0.5272 - val_hinge_accuracy: 0.6333\n",
      "Epoch 56/100\n",
      "3/3 [==============================] - 0s 24ms/step - loss: 0.4394 - hinge_accuracy: 0.6700 - val_loss: 0.5244 - val_hinge_accuracy: 0.6333\n",
      "Epoch 57/100\n",
      "3/3 [==============================] - 0s 23ms/step - loss: 0.4374 - hinge_accuracy: 0.6900 - val_loss: 0.5217 - val_hinge_accuracy: 0.6333\n",
      "Epoch 58/100\n",
      "3/3 [==============================] - 0s 21ms/step - loss: 0.4354 - hinge_accuracy: 0.6700 - val_loss: 0.5189 - val_hinge_accuracy: 0.6333\n",
      "Epoch 59/100\n",
      "3/3 [==============================] - 0s 24ms/step - loss: 0.4334 - hinge_accuracy: 0.6400 - val_loss: 0.5162 - val_hinge_accuracy: 0.6333\n",
      "Epoch 60/100\n",
      "3/3 [==============================] - 0s 23ms/step - loss: 0.4316 - hinge_accuracy: 0.6700 - val_loss: 0.5135 - val_hinge_accuracy: 0.6333\n",
      "Epoch 61/100\n",
      "3/3 [==============================] - 0s 25ms/step - loss: 0.4297 - hinge_accuracy: 0.6300 - val_loss: 0.5110 - val_hinge_accuracy: 0.6333\n",
      "Epoch 62/100\n",
      "3/3 [==============================] - 0s 24ms/step - loss: 0.4277 - hinge_accuracy: 0.6800 - val_loss: 0.5085 - val_hinge_accuracy: 0.6333\n",
      "Epoch 63/100\n",
      "3/3 [==============================] - 0s 24ms/step - loss: 0.4261 - hinge_accuracy: 0.6400 - val_loss: 0.5060 - val_hinge_accuracy: 0.6333\n",
      "Epoch 64/100\n",
      "3/3 [==============================] - 0s 25ms/step - loss: 0.4242 - hinge_accuracy: 0.6700 - val_loss: 0.5035 - val_hinge_accuracy: 0.6333\n",
      "Epoch 65/100\n",
      "3/3 [==============================] - 0s 24ms/step - loss: 0.4224 - hinge_accuracy: 0.6800 - val_loss: 0.5011 - val_hinge_accuracy: 0.6333\n",
      "Epoch 66/100\n",
      "3/3 [==============================] - 0s 23ms/step - loss: 0.4207 - hinge_accuracy: 0.6800 - val_loss: 0.4987 - val_hinge_accuracy: 0.6333\n",
      "Epoch 67/100\n",
      "3/3 [==============================] - 0s 24ms/step - loss: 0.4189 - hinge_accuracy: 0.6900 - val_loss: 0.4963 - val_hinge_accuracy: 0.6333\n",
      "Epoch 68/100\n",
      "3/3 [==============================] - 0s 25ms/step - loss: 0.4172 - hinge_accuracy: 0.6500 - val_loss: 0.4939 - val_hinge_accuracy: 0.6333\n",
      "Epoch 69/100\n",
      "3/3 [==============================] - 0s 25ms/step - loss: 0.4155 - hinge_accuracy: 0.6700 - val_loss: 0.4915 - val_hinge_accuracy: 0.6333\n",
      "Epoch 70/100\n",
      "3/3 [==============================] - 0s 23ms/step - loss: 0.4139 - hinge_accuracy: 0.6500 - val_loss: 0.4892 - val_hinge_accuracy: 0.6333\n",
      "Epoch 71/100\n",
      "3/3 [==============================] - 0s 25ms/step - loss: 0.4121 - hinge_accuracy: 0.6500 - val_loss: 0.4870 - val_hinge_accuracy: 0.6333\n",
      "Epoch 72/100\n",
      "3/3 [==============================] - 0s 25ms/step - loss: 0.4105 - hinge_accuracy: 0.6700 - val_loss: 0.4848 - val_hinge_accuracy: 0.6333\n",
      "Epoch 73/100\n",
      "3/3 [==============================] - 0s 22ms/step - loss: 0.4090 - hinge_accuracy: 0.6600 - val_loss: 0.4826 - val_hinge_accuracy: 0.6333\n",
      "Epoch 74/100\n",
      "3/3 [==============================] - 0s 24ms/step - loss: 0.4072 - hinge_accuracy: 0.7000 - val_loss: 0.4804 - val_hinge_accuracy: 0.6333\n",
      "Epoch 75/100\n",
      "3/3 [==============================] - 0s 24ms/step - loss: 0.4058 - hinge_accuracy: 0.6800 - val_loss: 0.4781 - val_hinge_accuracy: 0.6333\n",
      "Epoch 76/100\n",
      "3/3 [==============================] - 0s 22ms/step - loss: 0.4041 - hinge_accuracy: 0.6700 - val_loss: 0.4759 - val_hinge_accuracy: 0.6333\n",
      "Epoch 77/100\n",
      "3/3 [==============================] - 0s 24ms/step - loss: 0.4025 - hinge_accuracy: 0.6900 - val_loss: 0.4737 - val_hinge_accuracy: 0.6333\n",
      "Epoch 78/100\n",
      "3/3 [==============================] - 0s 24ms/step - loss: 0.4010 - hinge_accuracy: 0.6900 - val_loss: 0.4715 - val_hinge_accuracy: 0.6333\n",
      "Epoch 79/100\n",
      "3/3 [==============================] - 0s 23ms/step - loss: 0.3993 - hinge_accuracy: 0.6800 - val_loss: 0.4694 - val_hinge_accuracy: 0.6333\n",
      "Epoch 80/100\n",
      "3/3 [==============================] - 0s 22ms/step - loss: 0.3979 - hinge_accuracy: 0.6700 - val_loss: 0.4673 - val_hinge_accuracy: 0.6333\n",
      "Epoch 81/100\n",
      "3/3 [==============================] - 0s 24ms/step - loss: 0.3965 - hinge_accuracy: 0.6800 - val_loss: 0.4652 - val_hinge_accuracy: 0.6333\n",
      "Epoch 82/100\n",
      "3/3 [==============================] - 0s 23ms/step - loss: 0.3949 - hinge_accuracy: 0.6900 - val_loss: 0.4633 - val_hinge_accuracy: 0.6333\n",
      "Epoch 83/100\n",
      "3/3 [==============================] - 0s 25ms/step - loss: 0.3936 - hinge_accuracy: 0.6700 - val_loss: 0.4613 - val_hinge_accuracy: 0.6333\n",
      "Epoch 84/100\n",
      "3/3 [==============================] - 0s 23ms/step - loss: 0.3921 - hinge_accuracy: 0.6700 - val_loss: 0.4594 - val_hinge_accuracy: 0.6333\n",
      "Epoch 85/100\n",
      "3/3 [==============================] - 0s 25ms/step - loss: 0.3908 - hinge_accuracy: 0.6800 - val_loss: 0.4575 - val_hinge_accuracy: 0.6333\n",
      "Epoch 86/100\n",
      "3/3 [==============================] - 0s 23ms/step - loss: 0.3895 - hinge_accuracy: 0.6700 - val_loss: 0.4556 - val_hinge_accuracy: 0.6333\n",
      "Epoch 87/100\n",
      "3/3 [==============================] - 0s 23ms/step - loss: 0.3881 - hinge_accuracy: 0.6600 - val_loss: 0.4538 - val_hinge_accuracy: 0.6333\n",
      "Epoch 88/100\n",
      "3/3 [==============================] - 0s 23ms/step - loss: 0.3868 - hinge_accuracy: 0.6900 - val_loss: 0.4520 - val_hinge_accuracy: 0.6333\n",
      "Epoch 89/100\n",
      "3/3 [==============================] - 0s 23ms/step - loss: 0.3856 - hinge_accuracy: 0.6600 - val_loss: 0.4503 - val_hinge_accuracy: 0.6333\n",
      "Epoch 90/100\n",
      "3/3 [==============================] - 0s 26ms/step - loss: 0.3843 - hinge_accuracy: 0.6900 - val_loss: 0.4486 - val_hinge_accuracy: 0.6333\n",
      "Epoch 91/100\n",
      "3/3 [==============================] - 0s 30ms/step - loss: 0.3831 - hinge_accuracy: 0.6500 - val_loss: 0.4469 - val_hinge_accuracy: 0.6333\n",
      "Epoch 92/100\n",
      "3/3 [==============================] - 0s 24ms/step - loss: 0.3819 - hinge_accuracy: 0.6700 - val_loss: 0.4452 - val_hinge_accuracy: 0.6333\n",
      "Epoch 93/100\n",
      "3/3 [==============================] - 0s 24ms/step - loss: 0.3807 - hinge_accuracy: 0.6800 - val_loss: 0.4436 - val_hinge_accuracy: 0.6333\n",
      "Epoch 94/100\n",
      "3/3 [==============================] - 0s 24ms/step - loss: 0.3796 - hinge_accuracy: 0.6700 - val_loss: 0.4420 - val_hinge_accuracy: 0.6333\n",
      "Epoch 95/100\n",
      "3/3 [==============================] - 0s 23ms/step - loss: 0.3784 - hinge_accuracy: 0.7100 - val_loss: 0.4404 - val_hinge_accuracy: 0.6333\n",
      "Epoch 96/100\n",
      "3/3 [==============================] - 0s 26ms/step - loss: 0.3773 - hinge_accuracy: 0.7200 - val_loss: 0.4388 - val_hinge_accuracy: 0.6333\n",
      "Epoch 97/100\n",
      "3/3 [==============================] - 0s 27ms/step - loss: 0.3761 - hinge_accuracy: 0.7000 - val_loss: 0.4373 - val_hinge_accuracy: 0.6333\n",
      "Epoch 98/100\n",
      "3/3 [==============================] - 0s 22ms/step - loss: 0.3751 - hinge_accuracy: 0.6800 - val_loss: 0.4357 - val_hinge_accuracy: 0.6333\n",
      "Epoch 99/100\n",
      "3/3 [==============================] - 0s 22ms/step - loss: 0.3739 - hinge_accuracy: 0.6800 - val_loss: 0.4342 - val_hinge_accuracy: 0.6333\n",
      "Epoch 100/100\n",
      "3/3 [==============================] - 0s 22ms/step - loss: 0.3729 - hinge_accuracy: 0.6500 - val_loss: 0.4327 - val_hinge_accuracy: 0.6333\n",
      "1/1 [==============================] - 0s 24ms/step - loss: 0.4327 - hinge_accuracy: 0.6333\n"
     ]
    }
   ],
   "source": [
    "qnn_history = model.fit(\n",
    "      x_train_tfcirc, y_train,\n",
    "      batch_size=BATCH_SIZE,\n",
    "      epochs=EPOCHS,\n",
    "      verbose=1,\n",
    "      validation_data=(x_test_tfcirc, y_test))\n",
    "\n",
    "qnn_results = model.evaluate(x_test_tfcirc, y_test)"
   ],
   "metadata": {
    "collapsed": false,
    "ExecuteTime": {
     "end_time": "2023-06-09T01:03:45.241563767Z",
     "start_time": "2023-06-09T01:03:37.960124079Z"
    }
   }
  },
  {
   "cell_type": "markdown",
   "source": [
    "Printing the achieved accuracy:"
   ],
   "metadata": {
    "collapsed": false
   }
  },
  {
   "cell_type": "code",
   "execution_count": 26,
   "outputs": [],
   "source": [
    "qnn_accuracy = qnn_results[1]"
   ],
   "metadata": {
    "collapsed": false,
    "ExecuteTime": {
     "end_time": "2023-06-09T01:04:13.206006912Z",
     "start_time": "2023-06-09T01:04:13.159183262Z"
    }
   }
  },
  {
   "cell_type": "code",
   "execution_count": 27,
   "outputs": [
    {
     "name": "stdout",
     "output_type": "stream",
     "text": [
      "0.6333333253860474\n"
     ]
    }
   ],
   "source": [
    "print(qnn_accuracy)"
   ],
   "metadata": {
    "collapsed": false,
    "ExecuteTime": {
     "end_time": "2023-06-09T01:04:13.703907132Z",
     "start_time": "2023-06-09T01:04:13.678417585Z"
    }
   }
  }
 ],
 "metadata": {
  "kernelspec": {
   "display_name": "Python 3",
   "language": "python",
   "name": "python3"
  },
  "language_info": {
   "codemirror_mode": {
    "name": "ipython",
    "version": 2
   },
   "file_extension": ".py",
   "mimetype": "text/x-python",
   "name": "python",
   "nbconvert_exporter": "python",
   "pygments_lexer": "ipython2",
   "version": "2.7.6"
  }
 },
 "nbformat": 4,
 "nbformat_minor": 0
}
